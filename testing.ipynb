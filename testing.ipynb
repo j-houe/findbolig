{
 "cells": [
  {
   "cell_type": "code",
   "execution_count": 7,
   "metadata": {},
   "outputs": [
    {
     "name": "stdout",
     "output_type": "stream",
     "text": [
      "The autoreload extension is already loaded. To reload it, use:\n",
      "  %reload_ext autoreload\n"
     ]
    }
   ],
   "source": [
    "%load_ext autoreload\n",
    "%autoreload 2\n",
    "from findbolig import FindBolig"
   ]
  },
  {
   "cell_type": "code",
   "execution_count": 8,
   "metadata": {},
   "outputs": [],
   "source": [
    "filters = \"\"\" \n",
    "    Commune=Frederiksberg&\n",
    "    City=København+V,København+Ø&\n",
    "    Rooms=2&\n",
    "    RentalPeriod=Unlimited&\n",
    "    Rent=16000\n",
    "\"\"\".replace('\\n','').replace(' ', '')\n",
    "\n",
    "findbolig = FindBolig(filters)"
   ]
  },
  {
   "cell_type": "code",
   "execution_count": 9,
   "metadata": {},
   "outputs": [],
   "source": [
    "findbolig.init_webdriver(headless=False)"
   ]
  },
  {
   "cell_type": "code",
   "execution_count": 10,
   "metadata": {},
   "outputs": [],
   "source": [
    "findbolig.go_to_base()"
   ]
  }
 ],
 "metadata": {
  "kernelspec": {
   "display_name": ".venv",
   "language": "python",
   "name": "python3"
  },
  "language_info": {
   "codemirror_mode": {
    "name": "ipython",
    "version": 3
   },
   "file_extension": ".py",
   "mimetype": "text/x-python",
   "name": "python",
   "nbconvert_exporter": "python",
   "pygments_lexer": "ipython3",
   "version": "3.11.0"
  },
  "orig_nbformat": 4,
  "vscode": {
   "interpreter": {
    "hash": "c675ebad7880b6dce0a2db4a29c695551ca232c6c6f6c557fa5b3b186e211c3d"
   }
  }
 },
 "nbformat": 4,
 "nbformat_minor": 2
}
