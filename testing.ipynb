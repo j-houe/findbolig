{
 "cells": [
  {
   "cell_type": "code",
   "execution_count": null,
   "metadata": {},
   "outputs": [],
   "source": [
    "from selenium import webdriver\n",
    "from selenium.webdriver.chrome.options import Options\n",
    "from selenium.webdriver.common.by import By\n",
    "from dotenv import load_dotenv\n",
    "import os\n",
    "load_dotenv()"
   ]
  },
  {
   "cell_type": "code",
   "execution_count": null,
   "metadata": {},
   "outputs": [],
   "source": [
    "env_email = os.getenv(\"email\")\n",
    "env_pw = os.getenv(\"password\")"
   ]
  },
  {
   "cell_type": "code",
   "execution_count": null,
   "metadata": {},
   "outputs": [],
   "source": [
    "url_base = \"https://findbolig.nu/da-dk/find?\"\n",
    "filters = \"\"\" \n",
    "    Commune=Frederiksberg&\n",
    "    City=København+V,København+Ø&\n",
    "    Rooms=2&\n",
    "    RentalPeriod=Unlimited&\n",
    "    Rent=12000&\n",
    "    AvailableFrom=2023-08-01\n",
    "\"\"\".replace('\\n','').replace(' ', '')"
   ]
  },
  {
   "cell_type": "code",
   "execution_count": null,
   "metadata": {},
   "outputs": [],
   "source": [
    "# Initiate WebDriver \n",
    "options = Options()\n",
    "options.headless = False\n",
    "driver = webdriver.Chrome(options=options)\n",
    "driver.get(url_base + filters)"
   ]
  },
  {
   "cell_type": "code",
   "execution_count": null,
   "metadata": {},
   "outputs": [],
   "source": [
    "# Close cookie prompt (decline)\n",
    "try:\n",
    "    driver.find_element(By.ID, 'declineButton').click()\n",
    "except:\n",
    "    pass"
   ]
  },
  {
   "cell_type": "code",
   "execution_count": null,
   "metadata": {},
   "outputs": [],
   "source": [
    "# checker om bolig allerede er ansøgt\n",
    "test = driver.find_element(By.CLASS_NAME, \"c-advert-apply__cancel\")"
   ]
  },
  {
   "cell_type": "code",
   "execution_count": null,
   "metadata": {},
   "outputs": [],
   "source": [
    "# Buttons\n",
    "# Decline cookies: declineButton (ID)\n",
    "# Property card: property-card (CLASS_NAME)\n",
    "# Bestil fremvisning: c-advert-apply (CLASS_NAME)"
   ]
  },
  {
   "cell_type": "code",
   "execution_count": null,
   "metadata": {},
   "outputs": [],
   "source": [
    "apartments = driver.find_element(By.CLASS_NAME, \"property-card\")"
   ]
  },
  {
   "cell_type": "code",
   "execution_count": null,
   "metadata": {},
   "outputs": [],
   "source": [
    "apartments.get_property('href')"
   ]
  },
  {
   "cell_type": "code",
   "execution_count": null,
   "metadata": {},
   "outputs": [],
   "source": [
    "appartments = driver.find_elements_by_class_name(\"advertLink\")"
   ]
  },
  {
   "cell_type": "code",
   "execution_count": 58,
   "metadata": {},
   "outputs": [],
   "source": [
    "url = \"https://findbolig.nu/da-dk/find?Commune=Frederiksberg&City=K%C3%B8benhavn+V,K%C3%B8benhavn+%C3%98&Rooms=2&AvailableFrom=2023-06-01&Rent=13000&RentalPeriod=Unlimited\"\n",
    "# Initiate WebDriver \n",
    "options = Options()\n",
    "options.headless = False\n",
    "driver = webdriver.Chrome(options=options)\n",
    "driver.get(url)"
   ]
  },
  {
   "cell_type": "code",
   "execution_count": 59,
   "metadata": {},
   "outputs": [],
   "source": [
    "apartments = driver.find_elements(By.CLASS_NAME, \"property-card\") # list of WebElement"
   ]
  },
  {
   "cell_type": "code",
   "execution_count": 55,
   "metadata": {},
   "outputs": [],
   "source": [
    "driver.get(apartments.get_attribute(\"href\"))"
   ]
  },
  {
   "cell_type": "code",
   "execution_count": 56,
   "metadata": {},
   "outputs": [],
   "source": [
    "bestil_fremvisning = driver.find_element(By.CLASS_NAME, \"c-advert-apply\")"
   ]
  },
  {
   "cell_type": "code",
   "execution_count": 57,
   "metadata": {},
   "outputs": [],
   "source": [
    "bestil_fremvisning.click()"
   ]
  },
  {
   "cell_type": "code",
   "execution_count": null,
   "metadata": {},
   "outputs": [],
   "source": [
    "\n",
    "\n",
    "\n",
    "\n",
    "# Send extract settings to WebDriver\n",
    "out_settings = settings.copy()\n",
    "for key in settings:\n",
    "    if settings[key]:\n",
    "        driver.find_element(By.NAME, key).send_keys(settings[key])\n",
    "    out_settings[key] = driver.find_element(By.NAME, key).get_attribute('value')\n",
    "\n",
    "# Download\n",
    "driver.find_element(By.NAME, 'submit').click()\n",
    "max_delay = 20\n",
    "delay = 0\n",
    "while not os.path.exists(filename) or delay == max_delay:\n",
    "    time.sleep(1)\n",
    "    delay += 1\n",
    "driver.close()\n"
   ]
  }
 ],
 "metadata": {
  "kernelspec": {
   "display_name": ".venv",
   "language": "python",
   "name": "python3"
  },
  "language_info": {
   "codemirror_mode": {
    "name": "ipython",
    "version": 3
   },
   "file_extension": ".py",
   "mimetype": "text/x-python",
   "name": "python",
   "nbconvert_exporter": "python",
   "pygments_lexer": "ipython3",
   "version": "3.11.0"
  },
  "orig_nbformat": 4,
  "vscode": {
   "interpreter": {
    "hash": "c675ebad7880b6dce0a2db4a29c695551ca232c6c6f6c557fa5b3b186e211c3d"
   }
  }
 },
 "nbformat": 4,
 "nbformat_minor": 2
}
