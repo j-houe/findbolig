{
 "cells": [
  {
   "cell_type": "code",
   "execution_count": 37,
   "metadata": {},
   "outputs": [
    {
     "data": {
      "text/plain": [
       "True"
      ]
     },
     "execution_count": 37,
     "metadata": {},
     "output_type": "execute_result"
    }
   ],
   "source": [
    "from selenium import webdriver\n",
    "from selenium.webdriver.chrome.options import Options\n",
    "from selenium.webdriver.common.by import By\n",
    "from dotenv import load_dotenv\n",
    "import os\n",
    "load_dotenv()"
   ]
  },
  {
   "cell_type": "code",
   "execution_count": 39,
   "metadata": {},
   "outputs": [],
   "source": [
    "os.getenv(\"adgangskode\")"
   ]
  },
  {
   "cell_type": "code",
   "execution_count": 13,
   "metadata": {},
   "outputs": [
    {
     "data": {
      "text/plain": [
       "'https://findbolig.nu/da-dk/find?PostalCodeAndPostalCodeName=2000+Frederiksberg&Rooms=2&RentalPeriod=Unlimited'"
      ]
     },
     "execution_count": 13,
     "metadata": {},
     "output_type": "execute_result"
    }
   ],
   "source": [
    "url_base = \"https://findbolig.nu/da-dk/find?\"\n",
    "filters = \"\"\" \n",
    "    PostalCodeAndPostalCodeName=2000+Frederiksberg&\n",
    "    Rooms=2&\n",
    "    RentalPeriod=Unlimited\n",
    "\"\"\".replace('\\n','').replace(' ', '')"
   ]
  },
  {
   "cell_type": "code",
   "execution_count": 32,
   "metadata": {},
   "outputs": [],
   "source": [
    "# Initiate WebDriver \n",
    "options = Options()\n",
    "options.headless = False\n",
    "driver = webdriver.Chrome(options=options)\n",
    "driver.get(url_base + filters)"
   ]
  },
  {
   "cell_type": "code",
   "execution_count": 34,
   "metadata": {},
   "outputs": [
    {
     "ename": "NoSuchElementException",
     "evalue": "Message: no such element: Unable to locate element: {\"method\":\"css selector\",\"selector\":\".c-advert-apply__cancel\"}\n  (Session info: chrome=109.0.5414.119)\nStacktrace:\n0   chromedriver                        0x000000010518cfa8 chromedriver + 4886440\n1   chromedriver                        0x000000010510a643 chromedriver + 4351555\n2   chromedriver                        0x0000000104d58b27 chromedriver + 477991\n3   chromedriver                        0x0000000104d9d76c chromedriver + 759660\n4   chromedriver                        0x0000000104d9d9c1 chromedriver + 760257\n5   chromedriver                        0x0000000104de1204 chromedriver + 1036804\n6   chromedriver                        0x0000000104dc35fd chromedriver + 914941\n7   chromedriver                        0x0000000104dde5fe chromedriver + 1025534\n8   chromedriver                        0x0000000104dc33a3 chromedriver + 914339\n9   chromedriver                        0x0000000104d8d57f chromedriver + 693631\n10  chromedriver                        0x0000000104d8eb1e chromedriver + 699166\n11  chromedriver                        0x0000000105159b9e chromedriver + 4676510\n12  chromedriver                        0x000000010515e91e chromedriver + 4696350\n13  chromedriver                        0x000000010516619f chromedriver + 4727199\n14  chromedriver                        0x000000010515f81a chromedriver + 4700186\n15  chromedriver                        0x0000000105132a62 chromedriver + 4516450\n16  chromedriver                        0x000000010517e8c8 chromedriver + 4827336\n17  chromedriver                        0x000000010517ea45 chromedriver + 4827717\n18  chromedriver                        0x00000001051947ef chromedriver + 4917231\n19  libsystem_pthread.dylib             0x00007ff81267a259 _pthread_start + 125\n20  libsystem_pthread.dylib             0x00007ff812675c7b thread_start + 15\n",
     "output_type": "error",
     "traceback": [
      "\u001b[0;31m---------------------------------------------------------------------------\u001b[0m",
      "\u001b[0;31mNoSuchElementException\u001b[0m                    Traceback (most recent call last)",
      "Cell \u001b[0;32mIn[34], line 1\u001b[0m\n\u001b[0;32m----> 1\u001b[0m test \u001b[39m=\u001b[39m driver\u001b[39m.\u001b[39;49mfind_element(By\u001b[39m.\u001b[39;49mCLASS_NAME, \u001b[39m\"\u001b[39;49m\u001b[39mc-advert-apply__cancel\u001b[39;49m\u001b[39m\"\u001b[39;49m)\n",
      "File \u001b[0;32m~/Python/FindBolig/.venv/lib/python3.11/site-packages/selenium/webdriver/remote/webdriver.py:861\u001b[0m, in \u001b[0;36mWebDriver.find_element\u001b[0;34m(self, by, value)\u001b[0m\n\u001b[1;32m    858\u001b[0m     by \u001b[39m=\u001b[39m By\u001b[39m.\u001b[39mCSS_SELECTOR\n\u001b[1;32m    859\u001b[0m     value \u001b[39m=\u001b[39m \u001b[39m'\u001b[39m\u001b[39m[name=\u001b[39m\u001b[39m\"\u001b[39m\u001b[39m%s\u001b[39;00m\u001b[39m\"\u001b[39m\u001b[39m]\u001b[39m\u001b[39m'\u001b[39m \u001b[39m%\u001b[39m value\n\u001b[0;32m--> 861\u001b[0m \u001b[39mreturn\u001b[39;00m \u001b[39mself\u001b[39;49m\u001b[39m.\u001b[39;49mexecute(Command\u001b[39m.\u001b[39;49mFIND_ELEMENT, {\u001b[39m\"\u001b[39;49m\u001b[39musing\u001b[39;49m\u001b[39m\"\u001b[39;49m: by, \u001b[39m\"\u001b[39;49m\u001b[39mvalue\u001b[39;49m\u001b[39m\"\u001b[39;49m: value})[\u001b[39m\"\u001b[39m\u001b[39mvalue\u001b[39m\u001b[39m\"\u001b[39m]\n",
      "File \u001b[0;32m~/Python/FindBolig/.venv/lib/python3.11/site-packages/selenium/webdriver/remote/webdriver.py:444\u001b[0m, in \u001b[0;36mWebDriver.execute\u001b[0;34m(self, driver_command, params)\u001b[0m\n\u001b[1;32m    442\u001b[0m response \u001b[39m=\u001b[39m \u001b[39mself\u001b[39m\u001b[39m.\u001b[39mcommand_executor\u001b[39m.\u001b[39mexecute(driver_command, params)\n\u001b[1;32m    443\u001b[0m \u001b[39mif\u001b[39;00m response:\n\u001b[0;32m--> 444\u001b[0m     \u001b[39mself\u001b[39;49m\u001b[39m.\u001b[39;49merror_handler\u001b[39m.\u001b[39;49mcheck_response(response)\n\u001b[1;32m    445\u001b[0m     response[\u001b[39m\"\u001b[39m\u001b[39mvalue\u001b[39m\u001b[39m\"\u001b[39m] \u001b[39m=\u001b[39m \u001b[39mself\u001b[39m\u001b[39m.\u001b[39m_unwrap_value(response\u001b[39m.\u001b[39mget(\u001b[39m\"\u001b[39m\u001b[39mvalue\u001b[39m\u001b[39m\"\u001b[39m, \u001b[39mNone\u001b[39;00m))\n\u001b[1;32m    446\u001b[0m     \u001b[39mreturn\u001b[39;00m response\n",
      "File \u001b[0;32m~/Python/FindBolig/.venv/lib/python3.11/site-packages/selenium/webdriver/remote/errorhandler.py:249\u001b[0m, in \u001b[0;36mErrorHandler.check_response\u001b[0;34m(self, response)\u001b[0m\n\u001b[1;32m    247\u001b[0m         alert_text \u001b[39m=\u001b[39m value[\u001b[39m\"\u001b[39m\u001b[39malert\u001b[39m\u001b[39m\"\u001b[39m]\u001b[39m.\u001b[39mget(\u001b[39m\"\u001b[39m\u001b[39mtext\u001b[39m\u001b[39m\"\u001b[39m)\n\u001b[1;32m    248\u001b[0m     \u001b[39mraise\u001b[39;00m exception_class(message, screen, stacktrace, alert_text)  \u001b[39m# type: ignore[call-arg]  # mypy is not smart enough here\u001b[39;00m\n\u001b[0;32m--> 249\u001b[0m \u001b[39mraise\u001b[39;00m exception_class(message, screen, stacktrace)\n",
      "\u001b[0;31mNoSuchElementException\u001b[0m: Message: no such element: Unable to locate element: {\"method\":\"css selector\",\"selector\":\".c-advert-apply__cancel\"}\n  (Session info: chrome=109.0.5414.119)\nStacktrace:\n0   chromedriver                        0x000000010518cfa8 chromedriver + 4886440\n1   chromedriver                        0x000000010510a643 chromedriver + 4351555\n2   chromedriver                        0x0000000104d58b27 chromedriver + 477991\n3   chromedriver                        0x0000000104d9d76c chromedriver + 759660\n4   chromedriver                        0x0000000104d9d9c1 chromedriver + 760257\n5   chromedriver                        0x0000000104de1204 chromedriver + 1036804\n6   chromedriver                        0x0000000104dc35fd chromedriver + 914941\n7   chromedriver                        0x0000000104dde5fe chromedriver + 1025534\n8   chromedriver                        0x0000000104dc33a3 chromedriver + 914339\n9   chromedriver                        0x0000000104d8d57f chromedriver + 693631\n10  chromedriver                        0x0000000104d8eb1e chromedriver + 699166\n11  chromedriver                        0x0000000105159b9e chromedriver + 4676510\n12  chromedriver                        0x000000010515e91e chromedriver + 4696350\n13  chromedriver                        0x000000010516619f chromedriver + 4727199\n14  chromedriver                        0x000000010515f81a chromedriver + 4700186\n15  chromedriver                        0x0000000105132a62 chromedriver + 4516450\n16  chromedriver                        0x000000010517e8c8 chromedriver + 4827336\n17  chromedriver                        0x000000010517ea45 chromedriver + 4827717\n18  chromedriver                        0x00000001051947ef chromedriver + 4917231\n19  libsystem_pthread.dylib             0x00007ff81267a259 _pthread_start + 125\n20  libsystem_pthread.dylib             0x00007ff812675c7b thread_start + 15\n"
     ]
    }
   ],
   "source": [
    "# checker om bolig allerede er ansøgt\n",
    "test = driver.find_element(By.CLASS_NAME, \"c-advert-apply__cancel\")"
   ]
  },
  {
   "cell_type": "code",
   "execution_count": null,
   "metadata": {},
   "outputs": [],
   "source": [
    "test.get_attribute(\"class\")"
   ]
  },
  {
   "cell_type": "code",
   "execution_count": 31,
   "metadata": {},
   "outputs": [],
   "source": [
    "test.click()"
   ]
  },
  {
   "cell_type": "code",
   "execution_count": 25,
   "metadata": {},
   "outputs": [],
   "source": [
    "check"
   ]
  },
  {
   "cell_type": "code",
   "execution_count": null,
   "metadata": {},
   "outputs": [],
   "source": [
    "https://findbolig.nu/da-dk/find?PostalCodeAndPostalCodeName=2000+Frederiksberg&Rooms=2&RentalPeriod=Unlimited"
   ]
  },
  {
   "cell_type": "code",
   "execution_count": null,
   "metadata": {},
   "outputs": [],
   "source": [
    "# Buttons\n",
    "# Decline cookies: declineButton (ID)\n",
    "# Property card: property-card (CLASS_NAME)\n",
    "# Bestil fremvisning: c-advert-apply (CLASS_NAME)"
   ]
  },
  {
   "cell_type": "code",
   "execution_count": 33,
   "metadata": {},
   "outputs": [],
   "source": [
    "driver.find_element(By.ID, 'declineButton').click()"
   ]
  },
  {
   "cell_type": "code",
   "execution_count": 16,
   "metadata": {},
   "outputs": [],
   "source": [
    "apartments = driver.find_element(By.CLASS_NAME, \"property-card\")"
   ]
  },
  {
   "cell_type": "code",
   "execution_count": 19,
   "metadata": {},
   "outputs": [
    {
     "data": {
      "text/plain": [
       "'https://findbolig.nu/da-dk/residence/4927'"
      ]
     },
     "execution_count": 19,
     "metadata": {},
     "output_type": "execute_result"
    }
   ],
   "source": [
    "apartments.get_property('href')"
   ]
  },
  {
   "cell_type": "code",
   "execution_count": null,
   "metadata": {},
   "outputs": [],
   "source": [
    "appartments = driver.find_elements_by_class_name(\"advertLink\")"
   ]
  },
  {
   "cell_type": "code",
   "execution_count": null,
   "metadata": {},
   "outputs": [],
   "source": [
    "\n",
    "\n",
    "\n",
    "\n",
    "# Send extract settings to WebDriver\n",
    "out_settings = settings.copy()\n",
    "for key in settings:\n",
    "    if settings[key]:\n",
    "        driver.find_element(By.NAME, key).send_keys(settings[key])\n",
    "    out_settings[key] = driver.find_element(By.NAME, key).get_attribute('value')\n",
    "\n",
    "# Download\n",
    "driver.find_element(By.NAME, 'submit').click()\n",
    "max_delay = 20\n",
    "delay = 0\n",
    "while not os.path.exists(filename) or delay == max_delay:\n",
    "    time.sleep(1)\n",
    "    delay += 1\n",
    "driver.close()\n"
   ]
  }
 ],
 "metadata": {
  "kernelspec": {
   "display_name": ".venv",
   "language": "python",
   "name": "python3"
  },
  "language_info": {
   "codemirror_mode": {
    "name": "ipython",
    "version": 3
   },
   "file_extension": ".py",
   "mimetype": "text/x-python",
   "name": "python",
   "nbconvert_exporter": "python",
   "pygments_lexer": "ipython3",
   "version": "3.11.0"
  },
  "orig_nbformat": 4,
  "vscode": {
   "interpreter": {
    "hash": "c675ebad7880b6dce0a2db4a29c695551ca232c6c6f6c557fa5b3b186e211c3d"
   }
  }
 },
 "nbformat": 4,
 "nbformat_minor": 2
}
